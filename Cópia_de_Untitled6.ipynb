{
  "nbformat": 4,
  "nbformat_minor": 0,
  "metadata": {
    "colab": {
      "provenance": [],
      "authorship_tag": "ABX9TyPZVfiFqeXHNl81Bheqctsh",
      "include_colab_link": true
    },
    "kernelspec": {
      "name": "python3",
      "display_name": "Python 3"
    },
    "language_info": {
      "name": "python"
    }
  },
  "cells": [
    {
      "cell_type": "markdown",
      "metadata": {
        "id": "view-in-github",
        "colab_type": "text"
      },
      "source": [
        "<a href=\"https://colab.research.google.com/github/LizdePaula/LizdePaula/blob/main/C%C3%B3pia_de_Untitled6.ipynb\" target=\"_parent\"><img src=\"https://colab.research.google.com/assets/colab-badge.svg\" alt=\"Open In Colab\"/></a>"
      ]
    },
    {
      "cell_type": "code",
      "execution_count": null,
      "metadata": {
        "colab": {
          "base_uri": "https://localhost:8080/"
        },
        "id": "3Nbu0OmY2k5Y",
        "outputId": "01180990-8846-4242-8b8a-fbe38e5dfe66"
      },
      "outputs": [
        {
          "output_type": "stream",
          "name": "stdout",
          "text": [
            "        <!doctype html>\n",
            "        <html lang=\"pt-BR\">\n",
            "\n",
            "        \n",
            "        <head>\n",
            "            <meta charset=\"UTF-8\"><script type=\"text/javascript\">(window.NREUM||(NREUM={})).init={ajax:{deny_list:[\"bam.nr-data.net\"]}};(window.NREUM||(NREUM={})).loader_config={licenseKey:\"37834cf8cb\",applicationID:\"222093544\"};;/*! For license information please see nr-loader-rum-1.288.1.min.js.LICENSE.txt */\n",
            "(()=>{var e,t,r={8122:(e,t,r)=>{\"use strict\";r.d(t,{a:()=>i});var n=r(944);function i(e,t){try{if(!e||\"object\"!=typeof e)return(0,n.R)(3);if(!t||\"object\"!=typeof t)return(0,n.R)(4);const r=Object.create(Object.\n"
          ]
        }
      ],
      "source": [
        "import requests\n",
        "\n",
        "response = requests.get('https://www.infomoney.com.br/cotacoes/b3/indice/ibovespa/')\n",
        "print(response.text[:600])"
      ]
    },
    {
      "cell_type": "code",
      "source": [],
      "metadata": {
        "id": "TXW-OPkC3qId"
      },
      "execution_count": null,
      "outputs": []
    },
    {
      "cell_type": "markdown",
      "source": [
        "##Entendimento da linha print(response.text[:600])"
      ],
      "metadata": {
        "id": "ZvlPfdaC3xVA"
      }
    },
    {
      "cell_type": "code",
      "source": [
        "# Entendimento da linha print(response.text[:600])\n",
        "#texto = 'Extrair msg de texto'\n",
        "texto = list(range(1,20))\n",
        "\n",
        "subtexto = texto [:11]\n",
        "print(subtexto)\n",
        "\n",
        "subtexto = texto [8:11]\n",
        "print(subtexto)\n",
        "\n",
        "subtexto = texto [-5:]\n",
        "print(subtexto)"
      ],
      "metadata": {
        "colab": {
          "base_uri": "https://localhost:8080/"
        },
        "id": "i8AUJOMo30Pc",
        "outputId": "7132029b-dae5-46df-a8e5-8933a8280547"
      },
      "execution_count": null,
      "outputs": [
        {
          "output_type": "stream",
          "name": "stdout",
          "text": [
            "[1, 2, 3, 4, 5, 6, 7, 8, 9, 10, 11]\n",
            "[9, 10, 11]\n",
            "[15, 16, 17, 18, 19]\n"
          ]
        }
      ]
    },
    {
      "cell_type": "markdown",
      "source": [
        "##BeautifulSoup"
      ],
      "metadata": {
        "id": "g1IbMLKS4DIw"
      }
    },
    {
      "cell_type": "code",
      "source": [
        "import requests\n",
        "from bs4 import BeautifulSoup\n",
        "\n",
        "response = requests.get('https://www.infomoney.com.br/cotacoes/b3/indice/ibovespa/')\n",
        "print(response.text[:600])\n",
        "\n",
        "soup = BeautifulSoup(response.text,'html.parser')\n",
        "print(soup.prettify()[:1000])"
      ],
      "metadata": {
        "colab": {
          "base_uri": "https://localhost:8080/"
        },
        "id": "_fx5X9sC4KKE",
        "outputId": "c2de8d19-ba8d-4a01-8d8e-cbdc942254ca"
      },
      "execution_count": null,
      "outputs": [
        {
          "output_type": "stream",
          "name": "stdout",
          "text": [
            "        <!doctype html>\n",
            "        <html lang=\"pt-BR\">\n",
            "\n",
            "        \n",
            "        <head>\n",
            "            <meta charset=\"UTF-8\">\n",
            "            <meta name=\"viewport\" content=\"width=device-width, initial-scale=1, shrink-to-fit=no\">\n",
            "\n",
            "            <style>\n",
            "                @charset \"UTF-8\";:root{--sapphire:#0091FF;--apatite:#32C5FF;--ruby:#FF5252;--xpamber:#F7B500;--gray:#6c757d;--amazonite:#44D7B6;--lightgray:#F5F7F8;--darkgray:#212121;--gray:#6C757D;--gray24:rgba(108, 117, 125, 0.24);--blue:#0091FF;--lightblue:#32C5FF;--yellow:#ffc709;--red:#FF5252;--emerald:#1eb980;--white:#ffffff}*{letter-spacing:normal!important}h\n",
            "<!DOCTYPE html>\n",
            "<html lang=\"pt-BR\">\n",
            " <head>\n",
            "  <meta charset=\"utf-8\"/>\n",
            "  <meta content=\"width=device-width, initial-scale=1, shrink-to-fit=no\" name=\"viewport\"/>\n",
            "  <style>\n",
            "   @charset \"UTF-8\";:root{--sapphire:#0091FF;--apatite:#32C5FF;--ruby:#FF5252;--xpamber:#F7B500;--gray:#6c757d;--amazonite:#44D7B6;--lightgray:#F5F7F8;--darkgray:#212121;--gray:#6C757D;--gray24:rgba(108, 117, 125, 0.24);--blue:#0091FF;--lightblue:#32C5FF;--yellow:#ffc709;--red:#FF5252;--emerald:#1eb980;--white:#ffffff}*{letter-spacing:normal!important}html{scroll-behavior:smooth}body{font-family:\"Helvetica Neue\",\"Helvetica Neue LT Pro\",Helvetica,Arial,sans-serif;color:#000}a{color:var(--sapphire)}h1{letter-spacing:-.02em!important}p{font-weight:400!important}.hl-hat{display:block;font-size:.875rem;font-weight:400!important;line-height:16px;margin-bottom:4px;color:#666;width:100%}.hl-title{display:block}.hl-title a{color:#000}.hl-title-2{font-size:24px;line-height:28px;letter-spacing:-.01em!important;font-weight:700}.hl\n"
          ]
        }
      ]
    }
  ]
}