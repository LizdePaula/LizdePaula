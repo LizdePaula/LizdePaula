{
  "nbformat": 4,
  "nbformat_minor": 0,
  "metadata": {
    "colab": {
      "provenance": [],
      "authorship_tag": "ABX9TyM0X+a/TvAXid8xMTiNdzmM",
      "include_colab_link": true
    },
    "kernelspec": {
      "name": "python3",
      "display_name": "Python 3"
    },
    "language_info": {
      "name": "python"
    }
  },
  "cells": [
    {
      "cell_type": "markdown",
      "metadata": {
        "id": "view-in-github",
        "colab_type": "text"
      },
      "source": [
        "<a href=\"https://colab.research.google.com/github/LizdePaula/LizdePaula/blob/main/PROJETO_CALCULADORA.ipynb\" target=\"_parent\"><img src=\"https://colab.research.google.com/assets/colab-badge.svg\" alt=\"Open In Colab\"/></a>"
      ]
    },
    {
      "cell_type": "code",
      "execution_count": 27,
      "metadata": {
        "colab": {
          "base_uri": "https://localhost:8080/"
        },
        "id": "UMwpD_Tmtwq1",
        "outputId": "4705a929-68a6-4cb9-ec43-defe93e9cbac"
      },
      "outputs": [
        {
          "output_type": "stream",
          "name": "stdout",
          "text": [
            "Por favor, digite seu nome: Liz\n",
            "Olá, Liz\n"
          ]
        }
      ],
      "source": [
        "nome = input (\"Por favor, digite seu nome: \") #nome\n",
        "print (f\"Olá, {nome}\")"
      ]
    },
    {
      "cell_type": "code",
      "source": [
        "idade = int(input(\"Digite sua idade: \"))  #verificar idade\n",
        "print (f\"Você tem {idade} anos.\")"
      ],
      "metadata": {
        "colab": {
          "base_uri": "https://localhost:8080/"
        },
        "id": "U7-nEnKSuapA",
        "outputId": "da3b6055-3c10-4862-cfe8-793b1dc9094d"
      },
      "execution_count": 25,
      "outputs": [
        {
          "output_type": "stream",
          "name": "stdout",
          "text": [
            "Digite sua idade: 34\n",
            "Você tem 34 anos.\n"
          ]
        }
      ]
    },
    {
      "cell_type": "code",
      "source": [
        "20 + 4  #adição"
      ],
      "metadata": {
        "colab": {
          "base_uri": "https://localhost:8080/"
        },
        "id": "XMKfFhxnvivI",
        "outputId": "7918bc0e-0d86-42e0-bc2b-7e7d89b2b5c1"
      },
      "execution_count": 21,
      "outputs": [
        {
          "output_type": "execute_result",
          "data": {
            "text/plain": [
              "24"
            ]
          },
          "metadata": {},
          "execution_count": 21
        }
      ]
    },
    {
      "cell_type": "code",
      "source": [
        "20 <= 30 #menor ou igual"
      ],
      "metadata": {
        "colab": {
          "base_uri": "https://localhost:8080/"
        },
        "id": "p_MdeXSqwjOk",
        "outputId": "6612e3be-b492-4aa8-bf4b-9098b0e3eaa9"
      },
      "execution_count": 22,
      "outputs": [
        {
          "output_type": "execute_result",
          "data": {
            "text/plain": [
              "True"
            ]
          },
          "metadata": {},
          "execution_count": 22
        }
      ]
    },
    {
      "cell_type": "code",
      "source": [
        "print(200 > 100 and 50 > 20) #and"
      ],
      "metadata": {
        "colab": {
          "base_uri": "https://localhost:8080/"
        },
        "id": "yJ6Z6BSlx1I9",
        "outputId": "8844f0f4-6b57-422f-c49d-fdfe58a36e47"
      },
      "execution_count": 23,
      "outputs": [
        {
          "output_type": "stream",
          "name": "stdout",
          "text": [
            "True\n"
          ]
        }
      ]
    },
    {
      "cell_type": "code",
      "source": [
        "print(100 < 2 or 10 > 3) #or"
      ],
      "metadata": {
        "colab": {
          "base_uri": "https://localhost:8080/"
        },
        "id": "u-5TNwChyanR",
        "outputId": "f6b9ee43-8293-4989-ebb0-859f45b8d2a4"
      },
      "execution_count": 15,
      "outputs": [
        {
          "output_type": "stream",
          "name": "stdout",
          "text": [
            "True\n"
          ]
        }
      ]
    },
    {
      "cell_type": "code",
      "source": [
        "not 54 < 3  #not"
      ],
      "metadata": {
        "colab": {
          "base_uri": "https://localhost:8080/"
        },
        "id": "J12Yusi2y6E-",
        "outputId": "dc0d29bd-635c-44e6-d846-033ef93dc0bc"
      },
      "execution_count": 24,
      "outputs": [
        {
          "output_type": "execute_result",
          "data": {
            "text/plain": [
              "True"
            ]
          },
          "metadata": {},
          "execution_count": 24
        }
      ]
    },
    {
      "cell_type": "code",
      "source": [
        "num1 = 10                               #condicional\n",
        "num2 = 14\n",
        "num3 = 24\n",
        "if (num1 > num2) and (num3 < num1):\n",
        "  print (\"o num1 é o maior valor\")\n",
        "else:\n",
        "  print(\"o num1 não é o maior valor\")"
      ],
      "metadata": {
        "colab": {
          "base_uri": "https://localhost:8080/"
        },
        "id": "9tnwkpCszfch",
        "outputId": "db601558-8a0f-4290-817d-1ab5376db2a5"
      },
      "execution_count": 31,
      "outputs": [
        {
          "output_type": "stream",
          "name": "stdout",
          "text": [
            "o num1 não é o maior valor\n"
          ]
        }
      ]
    },
    {
      "cell_type": "code",
      "source": [
        "for contador in range(101):\n",
        "  print(contador)\n",
        "  if contador == 10:\n",
        "    break"
      ],
      "metadata": {
        "colab": {
          "base_uri": "https://localhost:8080/"
        },
        "id": "pFv3gYMS3Adw",
        "outputId": "70c4bc3a-610d-464a-ff9e-8cf012f930b0"
      },
      "execution_count": 34,
      "outputs": [
        {
          "output_type": "stream",
          "name": "stdout",
          "text": [
            "0\n",
            "1\n",
            "2\n",
            "3\n",
            "4\n",
            "5\n",
            "6\n",
            "7\n",
            "8\n",
            "9\n",
            "10\n"
          ]
        }
      ]
    }
  ]
}